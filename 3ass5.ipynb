{
 "cells": [
  {
   "cell_type": "code",
   "execution_count": null,
   "metadata": {},
   "outputs": [
    {
     "name": "stdout",
     "output_type": "stream",
     "text": [
      "enter no1 :24\n",
      "enter no2 :46\n"
     ]
    }
   ],
   "source": [
    "#1.\n",
    "def LCM(x,y):\n",
    "    h=0\n",
    "    if(x>y):\n",
    "        h=x\n",
    "    else:\n",
    "        h=y\n",
    "\n",
    "    while(h>0):\n",
    "        temp=h\n",
    "        if(h%x==0) and (h%y==0):\n",
    "            print(h)   \n",
    "            break\n",
    "        else:\n",
    "            h=h+temp\n",
    "    \n",
    "x= int(input(\"enter no1 :\"))\n",
    "y= int(input(\"enter no2 :\"))\n",
    "LCM(x,y)"
   ]
  },
  {
   "cell_type": "code",
   "execution_count": null,
   "metadata": {},
   "outputs": [],
   "source": [
    "2.\n",
    "def HCF(x,y):\n",
    "    if(x>y):\n",
    "        temp=x\n",
    "        small=y\n",
    "    else:\n",
    "        temp=y\n",
    "        small=x\n",
    "    while(temp%small!=0):\n",
    "        temp=(small*(temp//small))+(temp%small)\n",
    "    print(\"HCF\",small)\n",
    "    \n",
    "x= int(input(\"enter no1 :\"))\n",
    "y= int(input(\"enter no2 :\"))\n",
    "HCF(x,y)"
   ]
  },
  {
   "cell_type": "code",
   "execution_count": null,
   "metadata": {},
   "outputs": [],
   "source": [
    "3.\n",
    "x= int(input(\"enter no1 :\"))\n",
    "y=int(input(\"which conversion :\\n 1.Binary\\n 2.Octal\\n 3.Hexadecimal\"))\n",
    "if(y==1):\n",
    "    print(bin(x))\n",
    "elif(y==2):\n",
    "    print(oct(x))\n",
    "elif(y==3):\n",
    "    print(hex(x))\n",
    "    "
   ]
  },
  {
   "cell_type": "code",
   "execution_count": null,
   "metadata": {},
   "outputs": [],
   "source": [
    "4\n",
    "a=input(\"enter character:\")\n",
    "print(\"ASCII value of {} is {}\".format(a,ord(ch)))"
   ]
  },
  {
   "cell_type": "code",
   "execution_count": null,
   "metadata": {},
   "outputs": [],
   "source": [
    "5\n",
    "x= float(input(\"enter no1 :\"))\n",
    "y= float(input(\"enter no2 :\"))   \n",
    "n=input(\"enter operation \\nadd(1),\\nsubstract(2),\\ndivide(3),\\nmultiply(4):\")\n",
    "if(n=='1'):\n",
    "    print(x,\"+\",y,\"=\",x+y)\n",
    "elif(n=='2'):\n",
    "     print(x,\"-\",y,\"=\",x-y)\n",
    "elif(n=='3'):\n",
    "     print(x,\"/\",y,\"=\",x/y)\n",
    "elif(n=='4'):\n",
    "     print(x,\"*\",y,\"=\",x*y)"
   ]
  },
  {
   "cell_type": "code",
   "execution_count": null,
   "metadata": {},
   "outputs": [],
   "source": []
  }
 ],
 "metadata": {
  "kernelspec": {
   "display_name": "Python 3",
   "language": "python",
   "name": "python3"
  },
  "language_info": {
   "codemirror_mode": {
    "name": "ipython",
    "version": 3
   },
   "file_extension": ".py",
   "mimetype": "text/x-python",
   "name": "python",
   "nbconvert_exporter": "python",
   "pygments_lexer": "ipython3",
   "version": "3.8.3"
  }
 },
 "nbformat": 4,
 "nbformat_minor": 4
}
